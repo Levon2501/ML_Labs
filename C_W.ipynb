{
  "nbformat": 4,
  "nbformat_minor": 0,
  "metadata": {
    "colab": {
      "provenance": [],
      "authorship_tag": "ABX9TyPrOHSun14LsyBoCl7WoPsI",
      "include_colab_link": true
    },
    "kernelspec": {
      "name": "python3",
      "display_name": "Python 3"
    },
    "language_info": {
      "name": "python"
    }
  },
  "cells": [
    {
      "cell_type": "markdown",
      "metadata": {
        "id": "view-in-github",
        "colab_type": "text"
      },
      "source": [
        "<a href=\"https://colab.research.google.com/github/Levon2501/ML_Labs/blob/main/C_W.ipynb\" target=\"_parent\"><img src=\"https://colab.research.google.com/assets/colab-badge.svg\" alt=\"Open In Colab\"/></a>"
      ]
    },
    {
      "cell_type": "code",
      "execution_count": 1,
      "metadata": {
        "colab": {
          "base_uri": "https://localhost:8080/"
        },
        "id": "Imv3GebTjnoo",
        "outputId": "1665d145-3009-4015-cbf3-7b685bcf808b"
      },
      "outputs": [
        {
          "output_type": "stream",
          "name": "stdout",
          "text": [
            "Looking in indexes: https://pypi.org/simple, https://us-python.pkg.dev/colab-wheels/public/simple/\n",
            "Collecting mpi4py\n",
            "  Downloading mpi4py-3.1.4.tar.gz (2.5 MB)\n",
            "\u001b[2K     \u001b[90m━━━━━━━━━━━━━━━━━━━━━━━━━━━━━━━━━━━━━━━━\u001b[0m \u001b[32m2.5/2.5 MB\u001b[0m \u001b[31m24.5 MB/s\u001b[0m eta \u001b[36m0:00:00\u001b[0m\n",
            "\u001b[?25h  Installing build dependencies ... \u001b[?25l\u001b[?25hdone\n",
            "  Getting requirements to build wheel ... \u001b[?25l\u001b[?25hdone\n",
            "  Preparing metadata (pyproject.toml) ... \u001b[?25l\u001b[?25hdone\n",
            "Building wheels for collected packages: mpi4py\n",
            "  Building wheel for mpi4py (pyproject.toml) ... \u001b[?25l\u001b[?25hdone\n",
            "  Created wheel for mpi4py: filename=mpi4py-3.1.4-cp38-cp38-linux_x86_64.whl size=5997298 sha256=9bdad46ab16bd22fe7f0c8b8d8c1f486490c0a4698e412db396c71d9c36923dc\n",
            "  Stored in directory: /root/.cache/pip/wheels/f3/35/48/0b9a7076995eea5ea64a7e4bc3f0f342f453080795276264e7\n",
            "Successfully built mpi4py\n",
            "Installing collected packages: mpi4py\n",
            "Successfully installed mpi4py-3.1.4\n"
          ]
        }
      ],
      "source": [
        "! pip install mpi4py"
      ]
    },
    {
      "cell_type": "code",
      "source": [
        "! pip install torchvision"
      ],
      "metadata": {
        "colab": {
          "base_uri": "https://localhost:8080/"
        },
        "id": "cGzy0RQlk3er",
        "outputId": "cc70d870-52ea-4088-880e-4c60afe5a0d0"
      },
      "execution_count": 2,
      "outputs": [
        {
          "output_type": "stream",
          "name": "stdout",
          "text": [
            "Looking in indexes: https://pypi.org/simple, https://us-python.pkg.dev/colab-wheels/public/simple/\n",
            "Requirement already satisfied: torchvision in /usr/local/lib/python3.8/dist-packages (0.14.1+cu116)\n",
            "Requirement already satisfied: numpy in /usr/local/lib/python3.8/dist-packages (from torchvision) (1.21.6)\n",
            "Requirement already satisfied: requests in /usr/local/lib/python3.8/dist-packages (from torchvision) (2.25.1)\n",
            "Requirement already satisfied: torch==1.13.1 in /usr/local/lib/python3.8/dist-packages (from torchvision) (1.13.1+cu116)\n",
            "Requirement already satisfied: typing-extensions in /usr/local/lib/python3.8/dist-packages (from torchvision) (4.4.0)\n",
            "Requirement already satisfied: pillow!=8.3.*,>=5.3.0 in /usr/local/lib/python3.8/dist-packages (from torchvision) (7.1.2)\n",
            "Requirement already satisfied: chardet<5,>=3.0.2 in /usr/local/lib/python3.8/dist-packages (from requests->torchvision) (4.0.0)\n",
            "Requirement already satisfied: idna<3,>=2.5 in /usr/local/lib/python3.8/dist-packages (from requests->torchvision) (2.10)\n",
            "Requirement already satisfied: certifi>=2017.4.17 in /usr/local/lib/python3.8/dist-packages (from requests->torchvision) (2022.12.7)\n",
            "Requirement already satisfied: urllib3<1.27,>=1.21.1 in /usr/local/lib/python3.8/dist-packages (from requests->torchvision) (1.24.3)\n"
          ]
        }
      ]
    },
    {
      "cell_type": "code",
      "source": [
        "!mkdir weights"
      ],
      "metadata": {
        "id": "CIrsdNJlk8FS"
      },
      "execution_count": 3,
      "outputs": []
    },
    {
      "cell_type": "code",
      "source": [
        "%%writefile data_set.py\n",
        "\n",
        "import torch\n",
        "from torchvision import datasets\n",
        "from torchvision.transforms import ToTensor\n",
        "import numpy as np\n",
        "import matplotlib.pyplot as plt\n",
        "\n",
        "train_data = datasets.MNIST(\n",
        "      root = 'data',\n",
        "      train = True,                         \n",
        "      transform = ToTensor(), \n",
        "      download = True,            \n",
        "  )\n",
        "\n",
        "test_data = datasets.MNIST(\n",
        "    root = 'data', \n",
        "    train = False, \n",
        "    transform = ToTensor()\n",
        ")"
      ],
      "metadata": {
        "colab": {
          "base_uri": "https://localhost:8080/"
        },
        "id": "rXZz79Q0lCfH",
        "outputId": "1dd77e70-fade-438e-fc8b-37b1b1fe669f"
      },
      "execution_count": 4,
      "outputs": [
        {
          "output_type": "stream",
          "name": "stdout",
          "text": [
            "Writing data_set.py\n"
          ]
        }
      ]
    },
    {
      "cell_type": "code",
      "source": [
        "import torch\n",
        "from data_set import train_data\n",
        "import matplotlib.pyplot as plt\n",
        "\n",
        "figure = plt.figure(figsize=(10, 8))\n",
        "cols, rows = 3, 5\n",
        "for i in range(1, cols * rows + 1):\n",
        "    sample_idx = torch.randint(len(train_data), size=(1,)).item()\n",
        "    img, label = train_data[sample_idx]\n",
        "    figure.add_subplot(rows, cols, i)\n",
        "    plt.title(label)\n",
        "    plt.axis(\"off\")\n",
        "    plt.imshow(img.squeeze(), cmap=\"inferno\")\n",
        "plt.show()"
      ],
      "metadata": {
        "colab": {
          "base_uri": "https://localhost:8080/",
          "height": 482
        },
        "id": "WC6rSrvpll0C",
        "outputId": "94369cd9-4bb6-4eee-d08f-3e5eb2229a54"
      },
      "execution_count": 6,
      "outputs": [
        {
          "output_type": "display_data",
          "data": {
            "text/plain": [
              "<Figure size 720x576 with 15 Axes>"
            ],
            "image/png": "[encoded data removed]"
          },
          "metadata": {
            "needs_background": "light"
          }
        }
      ]
    },
    {
      "cell_type": "code",
      "source": [
        "%%writefile data_loader.py\n",
        "from torch.utils.data import DataLoader\n",
        "import torch\n",
        "from data_set import train_data,test_data\n",
        "\n",
        "def DataLoader(batchSize, numWorkers, shuffle = False,):\n",
        "  loaders = {\n",
        "  'train' : torch.utils.data.DataLoader(train_data, batch_size=batchSize, shuffle=shuffle, num_workers=numWorkers),\n",
        "  'validate'  : torch.utils.data.DataLoader(test_data, batch_size=batchSize, shuffle=True, num_workers=numWorkers)\n",
        "  }\n",
        "\n",
        "  return loaders "
      ],
      "metadata": {
        "colab": {
          "base_uri": "https://localhost:8080/"
        },
        "id": "Oae1rUn1lran",
        "outputId": "fa1d2bd3-6424-47bd-c84c-257e12891558"
      },
      "execution_count": 7,
      "outputs": [
        {
          "output_type": "stream",
          "name": "stdout",
          "text": [
            "Writing data_loader.py\n"
          ]
        }
      ]
    },
    {
      "cell_type": "code",
      "source": [
        "%%writefile model.py\n",
        "import torch.nn as nn\n",
        "\n",
        "class CNN(nn.Module):\n",
        "    def __init__(self):\n",
        "        super(CNN, self).__init__()\n",
        "        self.conv1 = nn.Sequential(         \n",
        "            nn.Conv2d(\n",
        "                in_channels=1,              \n",
        "                out_channels=16,            \n",
        "                kernel_size=5,              \n",
        "                stride=1,                   \n",
        "                padding=2,\n",
        "                dilation=1,\n",
        "                groups=1                 \n",
        "            ),                              \n",
        "            nn.ReLU(),                      \n",
        "            nn.MaxPool2d(kernel_size=2),    \n",
        "        )\n",
        "        self.conv2 = nn.Sequential(         \n",
        "            nn.Conv2d(16, 32, 5, 1, 2),     \n",
        "            nn.ReLU(),                      \n",
        "            nn.MaxPool2d(2),                \n",
        "        )\n",
        "        # fully connected layer, output 10 classes\n",
        "        self.out = nn.Linear(32 * 7 * 7, 10)\n",
        "        \n",
        "    def forward(self, x):\n",
        "        x = self.conv1(x)\n",
        "        x = self.conv2(x)\n",
        "        # flatten the output of conv2 to (batch_size, 32 * 7 * 7)\n",
        "        x = x.view(x.size(0), -1)       \n",
        "        output = self.out(x)\n",
        "        return output"
      ],
      "metadata": {
        "colab": {
          "base_uri": "https://localhost:8080/"
        },
        "id": "TG4MEthrmL0i",
        "outputId": "463baa0f-cae8-4aef-8f23-3924f03e571a"
      },
      "execution_count": 8,
      "outputs": [
        {
          "output_type": "stream",
          "name": "stdout",
          "text": [
            "Writing model.py\n"
          ]
        }
      ]
    },
    {
      "cell_type": "code",
      "source": [
        "%%writefile main.py\n",
        "from mpi4py import MPI\n",
        "import torch.optim as optim\n",
        "import torch\n",
        "from data_loader import DataLoader\n",
        "from torch.autograd import Variable\n",
        "from model import CNN\n",
        "import torch.nn as nn\n",
        "from tqdm import tqdm\n",
        "\n",
        "def train_model(num_epochs,\n",
        "                criterion,\n",
        "                test_dataloader,\n",
        "                rank,\n",
        "                batch_size,\n",
        "                optimizer,\n",
        "                model,\n",
        "                train_dataloader,\n",
        "                val_dataloader):\n",
        "    device = torch.device(\"cuda:0\" if torch.cuda.is_available() else \"cpu\")\n",
        "    model.to(device)\n",
        "    model_best = 0\n",
        "\n",
        "    for epoch in range(num_epochs):\n",
        "      running_loss = 0\n",
        "      accuracy = 0\n",
        "\n",
        "      dataset_sizes_train = len(train_dataloader)\n",
        "      model.train()\n",
        "\n",
        "      if rank == 0:\n",
        "        i = 0\n",
        "        for images, labels in tqdm(train_dataloader):\n",
        "          comm.send((images, labels),dest = i%(p-1)+1)\n",
        "          i+=1\n",
        "\n",
        "      if rank != 0:\n",
        "        for i in range(len(train_dataloader)):    \n",
        "          if i % (p - 1) + 1 == rank:\n",
        "            (images,lables) = comm.recv(source=0)\n",
        "            images = images.to(device)\n",
        "            lables = lables.to(device)\n",
        "\n",
        "            output = model(images)\n",
        "            loss = criterion(output,lables)\n",
        "            \n",
        "            optimizer.zero_grad()\n",
        "            loss.backward()\n",
        "            optimizer.step()\n",
        "            \n",
        "            running_loss += loss.item() * images.size(0)\n",
        "\n",
        "        running_loss = running_loss / dataset_sizes_train\n",
        "        print(\"Epoch of train:\", epoch + 1,\"Loss: [\", running_loss, \"]\", \"rank: \", rank)\n",
        "            \n",
        "      MPI.Comm.Barrier(MPI.COMM_WORLD)\n",
        "      \n",
        "      accuracy = 0\n",
        "      validate_loss = 0.0\n",
        "      dataset_sizes_val = len(val_dataloader)\n",
        "\n",
        "      if rank != 0:\n",
        "        model.eval()\n",
        "\n",
        "      if rank == 0:\n",
        "        i = 0\n",
        "        for images, labels in tqdm(val_dataloader):\n",
        "          comm.send((images,labels), dest=i % (p - 1) + 1)\n",
        "          i+=1\n",
        "\n",
        "      if rank != 0:\n",
        "        for i in range(len(val_dataloader)):    \n",
        "          if i % (p - 1) + 1 == rank:\n",
        "            (images,lables) = comm.recv(source=0)\n",
        "            images = images.to(device)\n",
        "            lables = lables.to(device)\n",
        "\n",
        "            with torch.no_grad():\n",
        "              output = model(images)\n",
        "              loss = criterion(output,lables)\n",
        "              validate_loss += loss.item() * images.size(0)\n",
        "              pred_y = torch.max(output, 1)[1].data.squeeze()\n",
        "        validate_loss = validate_loss / dataset_sizes_val\n",
        "        print(\"Epoch of validation:\", epoch + 1,\"Loss: \",validate_loss, rank)\n",
        "\n",
        "      MPI.Comm.Barrier(MPI.COMM_WORLD) \n",
        "\n",
        "      if rank != 0: \n",
        "        if epoch == 0:\n",
        "          model_best = validate_loss\n",
        "\n",
        "        if validate_loss <= model_best:\n",
        "          model_best = validate_loss\n",
        "          torch.save(model.state_dict(), f\"./weights/model_{rank}.pth\")\n",
        "    return model\n",
        "\n",
        "if __name__ == \"__main__\":\n",
        "\n",
        "  comm = MPI.COMM_WORLD\n",
        "  my_rank = comm.Get_rank()\n",
        "  p = comm.Get_size()\n",
        "  num_epochs = 5\n",
        "  batch_size = 20\n",
        "  num_workers = 6\n",
        "  train_dataloader = DataLoader(batch_size,num_workers)['train']\n",
        "  validate_dataloader = DataLoader(batch_size,num_workers)['validate']\n",
        "  model = CNN()\n",
        "  optimizer = optim.Adam(model.parameters(), lr=0.01)\n",
        "  criterion = nn.CrossEntropyLoss()\n",
        "  model = train_model(num_epochs,criterion,validate_dataloader,my_rank,\n",
        "                           batch_size,optimizer,model,train_dataloader,validate_dataloader)\n",
        "  MPI.Finalize"
      ],
      "metadata": {
        "colab": {
          "base_uri": "https://localhost:8080/"
        },
        "id": "KwD-K-ctmZQA",
        "outputId": "7cdf93ee-67e8-45e5-864c-88980bd04d06"
      },
      "execution_count": 9,
      "outputs": [
        {
          "output_type": "stream",
          "name": "stdout",
          "text": [
            "Writing main.py\n"
          ]
        }
      ]
    },
    {
      "cell_type": "code",
      "source": [
        "! mpirun --allow-run-as-root -np 4 --oversubscribe python main.py"
      ],
      "metadata": {
        "colab": {
          "base_uri": "https://localhost:8080/"
        },
        "id": "ZXWZQCxMmde7",
        "outputId": "61a824e2-3091-4e27-ce63-0205f07acae9"
      },
      "execution_count": 10,
      "outputs": [
        {
          "output_type": "stream",
          "name": "stdout",
          "text": [
            "/usr/local/lib/python3.8/dist-packages/torch/utils/data/dataloader.py:554: UserWarning: This DataLoader will create 6 worker processes in total. Our suggested max number of worker in current system is 2, which is smaller than what this DataLoader is going to create. Please be aware that excessive worker creation might get DataLoader running slow or even freeze, lower the worker number to avoid potential slowness/freeze if necessary.\n",
            "  warnings.warn(_create_warning_msg(\n",
            "100%|█████████▉| 2993/3000 [01:02<00:00, 50.76it/s]Epoch of train: 1 Loss: [ 1.4000609135623867 ] rank:  1\n",
            "Epoch of train: 1 Loss: [ 1.346101392506971 ] rank:  2\n",
            "100%|██████████| 3000/3000 [01:02<00:00, 52.44it/s]Epoch of train: 1 Loss: [ 1.6462204671204623 ] rank:  3\n",
            "100%|██████████| 3000/3000 [01:02<00:00, 48.13it/s]\n",
            " 97%|█████████▋| 486/500 [00:05<00:00, 100.04it/s]Epoch of validation: 1 Loss:  0.8112671683449298 3\n",
            "Epoch of validation: 1 Loss:  0.7761627265624702 1\n",
            "100%|██████████| 500/500 [00:05<00:00, 94.37it/s] Epoch of validation: 1 Loss:  1.3638163463957609 2\n",
            "\n",
            "100%|██████████| 3000/3000 [01:01<00:00, 48.99it/s]Epoch of train: 2 Loss: [ 0.7618344296500861 ] rank:  1\n",
            "Epoch of train: 2 Loss: [ 0.8038413890194595 ] rank:  3\n",
            "Epoch of train: 2 Loss: [ 0.7526154549685695 ] rank:  2\n",
            "\n",
            " 97%|█████████▋| 487/500 [00:05<00:00, 94.24it/s]Epoch of validation: 2 Loss:  0.9081992485153023 3\n",
            "Epoch of validation: 2 Loss:  0.7930849068093813 2\n",
            "100%|██████████| 500/500 [00:05<00:00, 91.17it/s]Epoch of validation: 2 Loss:  0.6436193419381744 1\n",
            "\n",
            "100%|█████████▉| 2999/3000 [01:01<00:00, 54.58it/s]Epoch of train: 3 Loss: [ 0.6847567441544137 ] rank:  1\n",
            "Epoch of train: 3 Loss: [ 0.6189464922187123 ] rank:  2\n",
            "100%|██████████| 3000/3000 [01:01<00:00, 49.00it/s]Epoch of train: 3 Loss: [ 0.7070177585727166 ] rank:  3\n",
            "\n",
            " 97%|█████████▋| 485/500 [00:05<00:00, 93.22it/s]Epoch of validation: 3 Loss:  0.7959807069518138 3\n",
            "100%|█████████▉| 499/500 [00:05<00:00, 103.35it/s]Epoch of validation: 3 Loss:  0.6819740071521665 1\n",
            "100%|██████████| 500/500 [00:05<00:00, 88.97it/s] Epoch of validation: 3 Loss:  0.5647683346095437 2\n",
            "\n",
            "100%|█████████▉| 2996/3000 [00:59<00:00, 58.04it/s]Epoch of train: 4 Loss: [ 0.6658482739554681 ] rank:  1\n",
            "100%|██████████| 3000/3000 [00:59<00:00, 50.46it/s]Epoch of train: 4 Loss: [ 0.6029902254869307 ] rank:  2\n",
            "Epoch of train: 4 Loss: [ 0.6316217093081408 ] rank:  3\n",
            "\n",
            " 97%|█████████▋| 486/500 [00:05<00:00, 89.98it/s]Epoch of validation: 4 Loss:  0.7222042790416708 3\n",
            "100%|██████████| 500/500 [00:05<00:00, 102.56it/s]Epoch of validation: 4 Loss:  0.9008576225011712 1\n",
            "100%|██████████| 500/500 [00:05<00:00, 91.86it/s] Epoch of validation: 4 Loss:  0.7228476362104084 2\n",
            "\n",
            "100%|█████████▉| 2995/3000 [00:59<00:00, 54.75it/s]Epoch of train: 5 Loss: [ 0.5925519769627802 ] rank:  1\n",
            "100%|██████████| 3000/3000 [01:00<00:00, 49.96it/s]Epoch of train: 5 Loss: [ 0.5411752229408346 ] rank:  2\n",
            "Epoch of train: 5 Loss: [ 0.6297009655121171 ] rank:  3\n",
            "\n",
            " 97%|█████████▋| 485/500 [00:05<00:00, 94.23it/s]Epoch of validation: 5 Loss:  0.9330977244365931 1\n",
            "100%|██████████| 500/500 [00:05<00:00, 109.21it/s]Epoch of validation: 5 Loss:  0.605976380147622 3\n",
            "100%|██████████| 500/500 [00:05<00:00, 88.76it/s] Epoch of validation: 5 Loss:  1.10528314106989 2\n",
            "\n",
            "/usr/local/lib/python3.8/dist-packages/torch/utils/data/dataloader.py:554: UserWarning: This DataLoader will create 6 worker processes in total. Our suggested max number of worker in current system is 2, which is smaller than what this DataLoader is going to create. Please be aware that excessive worker creation might get DataLoader running slow or even freeze, lower the worker number to avoid potential slowness/freeze if necessary.\n",
            "  warnings.warn(_create_warning_msg(\n",
            "/usr/local/lib/python3.8/dist-packages/torch/utils/data/dataloader.py:554: UserWarning: This DataLoader will create 6 worker processes in total. Our suggested max number of worker in current system is 2, which is smaller than what this DataLoader is going to create. Please be aware that excessive worker creation might get DataLoader running slow or even freeze, lower the worker number to avoid potential slowness/freeze if necessary.\n",
            "  warnings.warn(_create_warning_msg(\n",
            "/usr/local/lib/python3.8/dist-packages/torch/utils/data/dataloader.py:554: UserWarning: This DataLoader will create 6 worker processes in total. Our suggested max number of worker in current system is 2, which is smaller than what this DataLoader is going to create. Please be aware that excessive worker creation might get DataLoader running slow or even freeze, lower the worker number to avoid potential slowness/freeze if necessary.\n",
            "  warnings.warn(_create_warning_msg(\n"
          ]
        }
      ]
    },
    {
      "cell_type": "code",
      "source": [
        "%%writefile test.py\n",
        "from mpi4py import MPI\n",
        "import torch.optim as optim\n",
        "import torch\n",
        "from data_loader import DataLoader\n",
        "from torch.autograd import Variable\n",
        "from model import CNN\n",
        "import torch.nn as nn\n",
        "from tqdm import tqdm\n",
        "\n",
        "def test(model, criterion, dataloader_test, dataset_sizes_test):\n",
        "    score = 0\n",
        "    runing_loss = 0.0\n",
        "    model.eval()\n",
        "\n",
        "    with torch.no_grad():\n",
        "        if rank != 0:\n",
        "            print(\"Start proccess number \",rank)\n",
        "            for image, label in tqdm(dataloader_test): \n",
        "                output = model(image)\n",
        "                comm.send(output, dest=0, tag=0) \n",
        "                if rank == 1:\n",
        "                    comm.send(label, dest=0, tag=1)\n",
        "                _, preds = torch.max(output, 1)\n",
        "                loss = criterion(output, label)\n",
        "                runing_loss += loss.item() * image.size(0)\n",
        "                score += torch.sum(preds == label.data)\n",
        "\n",
        "            epoch_acc = score.double() / dataset_sizes_test\n",
        "            runing_loss = runing_loss / dataset_sizes_test\n",
        "            print(\"Test process \", rank, \": score: [\", epoch_acc.item(), \"], loss: [\", runing_loss, \"]\")\n",
        "        \n",
        "        MPI.Comm.Barrier(MPI.COMM_WORLD)\n",
        "        result = 0\n",
        "\n",
        "        if rank == 0:\n",
        "            print(\"Start proccess number \",rank)\n",
        "            for i in tqdm(range(len(dataloader_test))):\n",
        "                label = comm.recv(source=1, tag=1) \n",
        "                for procid in range(1, p):\n",
        "                    output = comm.recv(source=procid, tag=0)\n",
        "\n",
        "                    if procid == 1:\n",
        "                        result_all_models = output\n",
        "\n",
        "                    else:\n",
        "                        result_all_models += output\n",
        "\n",
        "                _, preds = torch.max(result_all_models, 1)\n",
        "                result += torch.sum(preds == label.data)\n",
        "\n",
        "            result = result.double() / dataset_sizes_test\n",
        "            print(\"Test process result\", rank, result.item())\n",
        "\n",
        "if __name__ == \"__main__\":\n",
        "\n",
        "  comm = MPI.COMM_WORLD\n",
        "  rank = comm.Get_rank()\n",
        "  p = comm.Get_size()\n",
        "  num_epochs = 5\n",
        "  batch_size = 20\n",
        "  num_workers = 6\n",
        "  train_dataloader = DataLoader(batch_size,num_workers)['train']\n",
        "  validate_dataloader = DataLoader(batch_size,num_workers)['validate']\n",
        "  model = CNN()\n",
        "\n",
        "  if(rank != 0):\n",
        "     model.load_state_dict(torch.load(f'/content/weights/model_{rank}.pth'))\n",
        "  optimizer = optim.Adam(model.parameters(), lr=0.01)\n",
        "  criterion = nn.CrossEntropyLoss()\n",
        "  model = test(model,criterion,validate_dataloader,len(validate_dataloader) * batch_size)\n",
        "  \n",
        "  MPI.Finalize"
      ],
      "metadata": {
        "colab": {
          "base_uri": "https://localhost:8080/"
        },
        "id": "9DG6MI1hmgY8",
        "outputId": "f31d5b14-d1b0-4e65-b18a-63621539b000"
      },
      "execution_count": 11,
      "outputs": [
        {
          "output_type": "stream",
          "name": "stdout",
          "text": [
            "Writing test.py\n"
          ]
        }
      ]
    },
    {
      "cell_type": "code",
      "source": [
        "! mpirun --allow-run-as-root -np 4 --oversubscribe python test.py"
      ],
      "metadata": {
        "colab": {
          "base_uri": "https://localhost:8080/"
        },
        "id": "DZU3WcQ1oWjT",
        "outputId": "a8bf0eb3-fb8f-4dbb-8fd2-b0b1360a7d3f"
      },
      "execution_count": 12,
      "outputs": [
        {
          "output_type": "stream",
          "name": "stdout",
          "text": [
            "Start proccess number  3\n",
            "/usr/local/lib/python3.8/dist-packages/torch/utils/data/dataloader.py:554: UserWarning: This DataLoader will create 6 worker processes in total. Our suggested max number of worker in current system is 2, which is smaller than what this DataLoader is going to create. Please be aware that excessive worker creation might get DataLoader running slow or even freeze, lower the worker number to avoid potential slowness/freeze if necessary.\n",
            "  warnings.warn(_create_warning_msg(\n",
            "\r  0%|          | 0/500 [00:00<?, ?it/s]Start proccess number  1\n",
            "/usr/local/lib/python3.8/dist-packages/torch/utils/data/dataloader.py:554: UserWarning: This DataLoader will create 6 worker processes in total. Our suggested max number of worker in current system is 2, which is smaller than what this DataLoader is going to create. Please be aware that excessive worker creation might get DataLoader running slow or even freeze, lower the worker number to avoid potential slowness/freeze if necessary.\n",
            "  warnings.warn(_create_warning_msg(\n",
            "  0%|          | 0/500 [00:00<?, ?it/s]Start proccess number  2\n",
            "/usr/local/lib/python3.8/dist-packages/torch/utils/data/dataloader.py:554: UserWarning: This DataLoader will create 6 worker processes in total. Our suggested max number of worker in current system is 2, which is smaller than what this DataLoader is going to create. Please be aware that excessive worker creation might get DataLoader running slow or even freeze, lower the worker number to avoid potential slowness/freeze if necessary.\n",
            "  warnings.warn(_create_warning_msg(\n",
            "100%|██████████| 500/500 [00:16<00:00, 31.10it/s]Test process  3 : score: [ 0.9705 ], loss: [ 0.11776434224412878 ]\n",
            "100%|██████████| 500/500 [00:16<00:00, 30.25it/s]Test process  2 : score: [ 0.9742 ], loss: [ 0.09587359450723579 ]\n",
            "100%|██████████| 500/500 [00:16<00:00, 29.47it/s]Test process  1 : score: [ 0.9703 ], loss: [ 0.10188854382008139 ]\n",
            "\n",
            "\n",
            "Start proccess number  0\n",
            "\n",
            "/usr/local/lib/python3.8/dist-packages/torch/utils/data/dataloader.py:554: UserWarning: This DataLoader will create 6 worker processes in total. Our suggested max number of worker in current system is 2, which is smaller than what this DataLoader is going to create. Please be aware that excessive worker creation might get DataLoader running slow or even freeze, lower the worker number to avoid potential slowness/freeze if necessary.\n",
            "  warnings.warn(_create_warning_msg(\n",
            "100%|██████████| 500/500 [00:00<00:00, 593.00it/s]Test process result 0 0.2884\n",
            "\n"
          ]
        }
      ]
    },
    {
      "cell_type": "code",
      "source": [],
      "metadata": {
        "id": "nq46CyUVoZhV"
      },
      "execution_count": null,
      "outputs": []
    }
  ]
}